{
 "cells": [
  {
   "cell_type": "markdown",
   "metadata": {},
   "source": [
    "# Notebook permettant d'entrainer nos agents RL"
   ]
  },
  {
   "cell_type": "code",
   "execution_count": 23,
   "metadata": {},
   "outputs": [],
   "source": [
    "# Installation des paquets nécessaires\n",
    "#!pip install gym numpy stable-baselines3"
   ]
  },
  {
   "cell_type": "markdown",
   "metadata": {},
   "source": [
    "## Chargement de l'environnement créé"
   ]
  },
  {
   "cell_type": "code",
   "execution_count": 24,
   "metadata": {},
   "outputs": [],
   "source": [
    "# Librairies\n",
    "import gym\n",
    "import numpy as np\n",
    "from gym_env_labyrinthe import LabyrinthEnv"
   ]
  },
  {
   "cell_type": "code",
   "execution_count": 25,
   "metadata": {},
   "outputs": [],
   "source": [
    "# Initialisation de l'environnement\n",
    "env = LabyrinthEnv()"
   ]
  },
  {
   "cell_type": "code",
   "execution_count": 27,
   "metadata": {},
   "outputs": [
    {
     "name": "stdout",
     "output_type": "stream",
     "text": [
      "Espace des actions :  Discrete(2352)\n",
      "Espace des observations :  Box(0.0, 1.0, (245,), float32)\n"
     ]
    }
   ],
   "source": [
    "# Affichage des actions possibles et de l'espace d'observation\n",
    "print(\"Espace des actions : \", env.action_space)\n",
    "print(\"Espace des observations : \", env.observation_space)"
   ]
  },
  {
   "cell_type": "markdown",
   "metadata": {},
   "source": [
    "## Création d'un agent random pour tester"
   ]
  },
  {
   "cell_type": "code",
   "execution_count": 28,
   "metadata": {},
   "outputs": [],
   "source": [
    "#Initialisation de l'environnement\n",
    "obs = env.reset()\n",
    "\n",
    "# Boucle de jeu avec N tours\n",
    "N = 10\n",
    "for i in range(N):\n",
    "    action = env.action_space.sample() # Action aléatoire\n",
    "    obs, recompense, fini, truncated, info = env.step(action)\n",
    "    env.render()\n",
    "\n",
    "    if fini:\n",
    "        print(\"Partie terminée\")\n",
    "        obs = env.reset()\n",
    "\n",
    "env.close()"
   ]
  },
  {
   "cell_type": "markdown",
   "metadata": {},
   "source": [
    "## Entrainement de l'agent avec un algo RL"
   ]
  },
  {
   "cell_type": "code",
   "execution_count": 29,
   "metadata": {},
   "outputs": [],
   "source": [
    "# Importation des librairies\n",
    "from stable_baselines3 import DQN\n",
    "from stable_baselines3.common.env_checker import check_env"
   ]
  },
  {
   "cell_type": "code",
   "execution_count": 30,
   "metadata": {},
   "outputs": [],
   "source": [
    "#Check si l'environnement est valide\n",
    "check_env(env)"
   ]
  },
  {
   "cell_type": "markdown",
   "metadata": {},
   "source": [
    "Cela a permis de corriger la version de Gym utilisée. Il faut utiliser Gymnasium et plus Gym. Les fonctions ont été corrigées en conséquence dans l'environnement."
   ]
  },
  {
   "cell_type": "code",
   "execution_count": 8,
   "metadata": {},
   "outputs": [
    {
     "name": "stdout",
     "output_type": "stream",
     "text": [
      "Using cpu device\n",
      "Wrapping the env with a `Monitor` wrapper\n",
      "Wrapping the env in a DummyVecEnv.\n"
     ]
    },
    {
     "name": "stderr",
     "output_type": "stream",
     "text": [
      "c:\\Users\\charl\\AppData\\Local\\Programs\\Python\\Python312\\Lib\\site-packages\\tqdm\\auto.py:21: TqdmWarning: IProgress not found. Please update jupyter and ipywidgets. See https://ipywidgets.readthedocs.io/en/stable/user_install.html\n",
      "  from .autonotebook import tqdm as notebook_tqdm\n"
     ]
    }
   ],
   "source": [
    "# Initialisation du modèle\n",
    "model = DQN(\"MlpPolicy\", \n",
    "            env, \n",
    "            learning_rate=1e-3,\n",
    "            gamma=0.99,\n",
    "            exploration_fraction=0.1,\n",
    "            exploration_final_eps=0.02,\n",
    "            verbose=1)"
   ]
  },
  {
   "cell_type": "code",
   "execution_count": 9,
   "metadata": {},
   "outputs": [
    {
     "name": "stdout",
     "output_type": "stream",
     "text": [
      "Le joueur 1 a gagné la partie !\n",
      "Le joueur 1 a gagné la partie !\n",
      "Le joueur 1 a gagné la partie !\n",
      "Le joueur 1 a gagné la partie !\n",
      "-----------------------------------\n",
      "| rollout/            |           |\n",
      "|    ep_len_mean      | 930       |\n",
      "|    ep_rew_mean      | -2.47e+03 |\n",
      "|    exploration_rate | 0.02      |\n",
      "| time/               |           |\n",
      "|    episodes         | 4         |\n",
      "|    fps              | 131       |\n",
      "|    time_elapsed     | 28        |\n",
      "|    total_timesteps  | 3722      |\n",
      "| train/              |           |\n",
      "|    learning_rate    | 0.001     |\n",
      "|    loss             | 0.12      |\n",
      "|    n_updates        | 905       |\n",
      "-----------------------------------\n",
      "Le joueur 1 a gagné la partie !\n",
      "Le joueur 1 a gagné la partie !\n",
      "Le joueur 1 a gagné la partie !\n",
      "Le joueur 1 a gagné la partie !\n",
      "-----------------------------------\n",
      "| rollout/            |           |\n",
      "|    ep_len_mean      | 1.1e+03   |\n",
      "|    ep_rew_mean      | -3.78e+03 |\n",
      "|    exploration_rate | 0.02      |\n",
      "| time/               |           |\n",
      "|    episodes         | 8         |\n",
      "|    fps              | 135       |\n",
      "|    time_elapsed     | 65        |\n",
      "|    total_timesteps  | 8831      |\n",
      "| train/              |           |\n",
      "|    learning_rate    | 0.001     |\n",
      "|    loss             | 0.717     |\n",
      "|    n_updates        | 2182      |\n",
      "-----------------------------------\n",
      "Le joueur 1 a gagné la partie !\n"
     ]
    },
    {
     "data": {
      "text/plain": [
       "<stable_baselines3.dqn.dqn.DQN at 0x16f92c8ade0>"
      ]
     },
     "execution_count": 9,
     "metadata": {},
     "output_type": "execute_result"
    }
   ],
   "source": [
    "# Entrainement\n",
    "model.learn(total_timesteps=10000)"
   ]
  },
  {
   "cell_type": "code",
   "execution_count": 10,
   "metadata": {},
   "outputs": [],
   "source": [
    "# Enregistrement du modèle\n",
    "model.save(\"modele_DQN_1\")"
   ]
  },
  {
   "cell_type": "markdown",
   "metadata": {},
   "source": [
    "## Evaluation du modele"
   ]
  },
  {
   "cell_type": "code",
   "execution_count": 31,
   "metadata": {},
   "outputs": [],
   "source": [
    "model_charge = DQN.load(\"modele_DQN_1\")"
   ]
  },
  {
   "cell_type": "code",
   "execution_count": null,
   "metadata": {},
   "outputs": [],
   "source": [
    "from stable_baselines3.common.callbacks import BaseCallback\n",
    "import numpy as np\n",
    "\n",
    "class RewardLogger(BaseCallback):\n",
    "    def __init__(self, verbose=0):\n",
    "        super(RewardLogger, self).__init__(verbose)\n",
    "        self.episode_rewards = []\n",
    "\n",
    "    def _on_step(self) -> bool:\n",
    "        # Accumule les récompenses par épisode\n",
    "        if self.locals['dones']:\n",
    "            episode_reward = np.sum(self.locals['rewards'])\n",
    "            self.episode_rewards.append(episode_reward)\n",
    "            if self.verbose > 0:\n",
    "                print(f\"Episode {len(self.episode_rewards)}: Reward {episode_reward}\")\n",
    "        return True\n",
    "\n",
    "# Initialisation de l'environnement et du modèle\n",
    "env = LabyrinthEnv()\n",
    "model = DQN('MlpPolicy', env, verbose=1)\n",
    "\n",
    "# Entrainement avec le callback\n",
    "reward_logger = RewardLogger(verbose=1)\n",
    "model.learn(total_timesteps=10000, callback=reward_logger)\n",
    "\n",
    "# Affichage des récompenses accumulées après entrainement\n",
    "import matplotlib.pyplot as plt\n",
    "plt.plot(reward_logger.episode_rewards)\n",
    "plt.title(\"Récompenses cumulées par épisode\")\n",
    "plt.xlabel(\"Épisodes\")\n",
    "plt.ylabel(\"Récompenses cumulées\")\n",
    "plt.show()\n"
   ]
  }
 ],
 "metadata": {
  "kernelspec": {
   "display_name": "Python 3",
   "language": "python",
   "name": "python3"
  },
  "language_info": {
   "codemirror_mode": {
    "name": "ipython",
    "version": 3
   },
   "file_extension": ".py",
   "mimetype": "text/x-python",
   "name": "python",
   "nbconvert_exporter": "python",
   "pygments_lexer": "ipython3",
   "version": "3.12.1"
  }
 },
 "nbformat": 4,
 "nbformat_minor": 2
}
