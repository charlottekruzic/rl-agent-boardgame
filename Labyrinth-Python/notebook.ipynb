{
 "cells": [
  {
   "cell_type": "markdown",
   "metadata": {},
   "source": [
    "# Notebook permettant d'entrainer nos agents RL"
   ]
  },
  {
   "cell_type": "code",
   "execution_count": 1,
   "metadata": {},
   "outputs": [],
   "source": [
    "# Installation des paquets nécessaires\n",
    "#!pip install gym numpy stable-baselines3"
   ]
  },
  {
   "cell_type": "markdown",
   "metadata": {},
   "source": [
    "## Chargement de l'environnement créé"
   ]
  },
  {
   "cell_type": "code",
   "execution_count": 2,
   "metadata": {},
   "outputs": [],
   "source": [
    "# Librairies\n",
    "import gym\n",
    "import numpy as np\n",
    "from gym_env_labyrinthe import LabyrinthEnv"
   ]
  },
  {
   "cell_type": "code",
   "execution_count": 3,
   "metadata": {},
   "outputs": [],
   "source": [
    "# Initialisation de l'environnement\n",
    "env = LabyrinthEnv(10000) # 1000 steps max (à ajuster)"
   ]
  },
  {
   "cell_type": "code",
   "execution_count": 4,
   "metadata": {},
   "outputs": [
    {
     "name": "stdout",
     "output_type": "stream",
     "text": [
      "Espace des actions :  Discrete(2352)\n",
      "Espace des observations :  Box(0.0, 1.0, (245,), float32)\n"
     ]
    }
   ],
   "source": [
    "# Affichage des actions possibles et de l'espace d'observation\n",
    "print(\"Espace des actions : \", env.action_space)\n",
    "print(\"Espace des observations : \", env.observation_space)"
   ]
  },
  {
   "cell_type": "markdown",
   "metadata": {},
   "source": [
    "## Création d'un agent random pour tester"
   ]
  },
  {
   "cell_type": "code",
   "execution_count": 5,
   "metadata": {},
   "outputs": [],
   "source": [
    "#Initialisation de l'environnement\n",
    "obs, info = env.reset()\n",
    "\n",
    "# Boucle de jeu avec N tours\n",
    "N = 100 # Nombre de tours (à ajuster)\n",
    "for i in range(N):\n",
    "    action = env.action_space.sample() # Action aléatoire\n",
    "    obs, recompense, fini, truncated, info = env.step(action)\n",
    "    env.render()\n",
    "\n",
    "    if fini:\n",
    "        print(\"Partie terminée\")\n",
    "        obs, info = env.reset()\n",
    "\n",
    "env.close()"
   ]
  },
  {
   "cell_type": "markdown",
   "metadata": {},
   "source": [
    "## Entrainement de l'agent avec un algo RL"
   ]
  },
  {
   "cell_type": "code",
   "execution_count": 6,
   "metadata": {},
   "outputs": [],
   "source": [
    "# Importation des librairies\n",
    "from stable_baselines3 import DQN\n",
    "from stable_baselines3.common.env_checker import check_env\n",
    "from stable_baselines3.common.callbacks import CheckpointCallback"
   ]
  },
  {
   "cell_type": "code",
   "execution_count": 7,
   "metadata": {},
   "outputs": [],
   "source": [
    "#Check si l'environnement est valide\n",
    "check_env(env)"
   ]
  },
  {
   "cell_type": "markdown",
   "metadata": {},
   "source": [
    "Cela a permis de corriger la version de Gym utilisée. Il faut utiliser Gymnasium et plus Gym. Les fonctions ont été corrigées en conséquence dans l'environnement."
   ]
  },
  {
   "cell_type": "code",
   "execution_count": 8,
   "metadata": {},
   "outputs": [
    {
     "name": "stdout",
     "output_type": "stream",
     "text": [
      "Using cpu device\n",
      "Wrapping the env with a `Monitor` wrapper\n",
      "Wrapping the env in a DummyVecEnv.\n"
     ]
    },
    {
     "name": "stderr",
     "output_type": "stream",
     "text": [
      "c:\\Users\\charl\\AppData\\Local\\Programs\\Python\\Python312\\Lib\\site-packages\\tqdm\\auto.py:21: TqdmWarning: IProgress not found. Please update jupyter and ipywidgets. See https://ipywidgets.readthedocs.io/en/stable/user_install.html\n",
      "  from .autonotebook import tqdm as notebook_tqdm\n"
     ]
    }
   ],
   "source": [
    "# Initialisation du modèle\n",
    "model = DQN(\"MlpPolicy\", \n",
    "            env, \n",
    "            learning_rate=0.01,\n",
    "            gamma=0.99,\n",
    "            exploration_fraction=0.1,\n",
    "            exploration_final_eps=0.02,\n",
    "            verbose=1)"
   ]
  },
  {
   "cell_type": "code",
   "execution_count": 9,
   "metadata": {},
   "outputs": [],
   "source": [
    "# Sauvegarder tous les 10 000 pas\n",
    "checkpoint_callback = CheckpointCallback(save_freq=10000, save_path='./modeles/',\n",
    "                                         name_prefix='modele_DQN')"
   ]
  },
  {
   "cell_type": "code",
   "execution_count": 10,
   "metadata": {},
   "outputs": [
    {
     "name": "stdout",
     "output_type": "stream",
     "text": [
      "Le joueur 1 a gagné la partie !\n",
      "Le joueur 1 a gagné la partie !\n",
      "-----------------------------------\n",
      "| rollout/            |           |\n",
      "|    ep_len_mean      | 7.9e+03   |\n",
      "|    ep_rew_mean      | -1.74e+04 |\n",
      "|    exploration_rate | 0.02      |\n",
      "| time/               |           |\n",
      "|    episodes         | 4         |\n",
      "|    fps              | 105       |\n",
      "|    time_elapsed     | 300       |\n",
      "|    total_timesteps  | 31609     |\n",
      "| train/              |           |\n",
      "|    learning_rate    | 0.01      |\n",
      "|    loss             | 0.741     |\n",
      "|    n_updates        | 7877      |\n",
      "-----------------------------------\n",
      "Le joueur 1 a gagné la partie !\n",
      "Le joueur 1 a gagné la partie !\n",
      "Le joueur 1 a gagné la partie !\n",
      "-----------------------------------\n",
      "| rollout/            |           |\n",
      "|    ep_len_mean      | 6.52e+03  |\n",
      "|    ep_rew_mean      | -1.54e+04 |\n",
      "|    exploration_rate | 0.02      |\n",
      "| time/               |           |\n",
      "|    episodes         | 8         |\n",
      "|    fps              | 102       |\n",
      "|    time_elapsed     | 507       |\n",
      "|    total_timesteps  | 52128     |\n",
      "| train/              |           |\n",
      "|    learning_rate    | 0.01      |\n",
      "|    loss             | 0.462     |\n",
      "|    n_updates        | 13006     |\n",
      "-----------------------------------\n",
      "Le joueur 1 a gagné la partie !\n",
      "Le joueur 1 a gagné la partie !\n",
      "-----------------------------------\n",
      "| rollout/            |           |\n",
      "|    ep_len_mean      | 6.51e+03  |\n",
      "|    ep_rew_mean      | -1.55e+04 |\n",
      "|    exploration_rate | 0.02      |\n",
      "| time/               |           |\n",
      "|    episodes         | 12        |\n",
      "|    fps              | 101       |\n",
      "|    time_elapsed     | 766       |\n",
      "|    total_timesteps  | 78066     |\n",
      "| train/              |           |\n",
      "|    learning_rate    | 0.01      |\n",
      "|    loss             | 0.757     |\n",
      "|    n_updates        | 19491     |\n",
      "-----------------------------------\n",
      "Le joueur 1 a gagné la partie !\n",
      "Le joueur 1 a gagné la partie !\n",
      "Le joueur 1 a gagné la partie !\n",
      "----------------------------------\n",
      "| rollout/            |          |\n",
      "|    ep_len_mean      | 6.04e+03 |\n",
      "|    ep_rew_mean      | -1.5e+04 |\n",
      "|    exploration_rate | 0.02     |\n",
      "| time/               |          |\n",
      "|    episodes         | 16       |\n",
      "|    fps              | 101      |\n",
      "|    time_elapsed     | 951      |\n",
      "|    total_timesteps  | 96613    |\n",
      "| train/              |          |\n",
      "|    learning_rate    | 0.01     |\n",
      "|    loss             | 0.86     |\n",
      "|    n_updates        | 24128    |\n",
      "----------------------------------\n",
      "Le joueur 1 a gagné la partie !\n"
     ]
    },
    {
     "data": {
      "text/plain": [
       "<stable_baselines3.dqn.dqn.DQN at 0x114a6ec6ae0>"
      ]
     },
     "execution_count": 10,
     "metadata": {},
     "output_type": "execute_result"
    }
   ],
   "source": [
    "# Entrainement\n",
    "model.learn(total_timesteps=100000, callback=checkpoint_callback)"
   ]
  },
  {
   "cell_type": "code",
   "execution_count": 11,
   "metadata": {},
   "outputs": [],
   "source": [
    "# Enregistrement du modèle\n",
    "model.save(\"modele_DQN_1\")"
   ]
  },
  {
   "cell_type": "markdown",
   "metadata": {},
   "source": [
    "## Evaluation du modele"
   ]
  },
  {
   "cell_type": "code",
   "execution_count": 12,
   "metadata": {},
   "outputs": [],
   "source": [
    "# Librairies\n",
    "import matplotlib.pyplot as plt"
   ]
  },
  {
   "cell_type": "code",
   "execution_count": 15,
   "metadata": {},
   "outputs": [],
   "source": [
    "model_1 = DQN.load(\"modeles/modele_DQN_10000_steps\")\n",
    "model_2 = DQN.load(\"modeles/modele_DQN_100000_steps\")"
   ]
  },
  {
   "cell_type": "code",
   "execution_count": 26,
   "metadata": {},
   "outputs": [
    {
     "name": "stdout",
     "output_type": "stream",
     "text": [
      "Épisode : 1 avec <stable_baselines3.dqn.dqn.DQN object at 0x00000114AB8E9310>\n",
      "Récompense : -11305\n",
      "Épisode : 2 avec <stable_baselines3.dqn.dqn.DQN object at 0x00000114AB8E9310>\n",
      "Récompense : -14857\n",
      "Épisode : 3 avec <stable_baselines3.dqn.dqn.DQN object at 0x00000114AB8E9310>\n",
      "Le joueur 1 a gagné la partie !\n",
      "Récompense : -13545\n",
      "Épisode : 4 avec <stable_baselines3.dqn.dqn.DQN object at 0x00000114AB8E9310>\n",
      "Récompense : -11838\n",
      "Épisode : 5 avec <stable_baselines3.dqn.dqn.DQN object at 0x00000114AB8E9310>\n",
      "Le joueur 1 a gagné la partie !\n",
      "Récompense : -14865\n",
      "Épisode : 6 avec <stable_baselines3.dqn.dqn.DQN object at 0x00000114AB8E9310>\n",
      "Récompense : -14218\n",
      "Épisode : 7 avec <stable_baselines3.dqn.dqn.DQN object at 0x00000114AB8E9310>\n",
      "Le joueur 1 a gagné la partie !\n",
      "Récompense : -12531\n",
      "Épisode : 8 avec <stable_baselines3.dqn.dqn.DQN object at 0x00000114AB8E9310>\n",
      "Récompense : -14387\n",
      "Épisode : 9 avec <stable_baselines3.dqn.dqn.DQN object at 0x00000114AB8E9310>\n",
      "Le joueur 1 a gagné la partie !\n",
      "Récompense : -5059\n",
      "Épisode : 10 avec <stable_baselines3.dqn.dqn.DQN object at 0x00000114AB8E9310>\n",
      "Le joueur 1 a gagné la partie !\n",
      "Récompense : -4062\n",
      "Épisode : 1 avec <stable_baselines3.dqn.dqn.DQN object at 0x00000114AA2D20F0>\n",
      "Récompense : -11272\n",
      "Épisode : 2 avec <stable_baselines3.dqn.dqn.DQN object at 0x00000114AA2D20F0>\n",
      "Récompense : -14679\n",
      "Épisode : 3 avec <stable_baselines3.dqn.dqn.DQN object at 0x00000114AA2D20F0>\n",
      "Le joueur 1 a gagné la partie !\n",
      "Récompense : -4844\n",
      "Épisode : 4 avec <stable_baselines3.dqn.dqn.DQN object at 0x00000114AA2D20F0>\n",
      "Le joueur 1 a gagné la partie !\n",
      "Récompense : -2022\n",
      "Épisode : 5 avec <stable_baselines3.dqn.dqn.DQN object at 0x00000114AA2D20F0>\n",
      "Le joueur 1 a gagné la partie !\n",
      "Récompense : -2524\n",
      "Épisode : 6 avec <stable_baselines3.dqn.dqn.DQN object at 0x00000114AA2D20F0>\n",
      "Le joueur 1 a gagné la partie !\n",
      "Récompense : -11415\n",
      "Épisode : 7 avec <stable_baselines3.dqn.dqn.DQN object at 0x00000114AA2D20F0>\n",
      "Le joueur 1 a gagné la partie !\n",
      "Récompense : -12708\n",
      "Épisode : 8 avec <stable_baselines3.dqn.dqn.DQN object at 0x00000114AA2D20F0>\n",
      "Le joueur 1 a gagné la partie !\n",
      "Récompense : -5896\n",
      "Épisode : 9 avec <stable_baselines3.dqn.dqn.DQN object at 0x00000114AA2D20F0>\n",
      "Le joueur 1 a gagné la partie !\n",
      "Récompense : -9302\n",
      "Épisode : 10 avec <stable_baselines3.dqn.dqn.DQN object at 0x00000114AA2D20F0>\n",
      "Le joueur 1 a gagné la partie !\n",
      "Récompense : -3421\n"
     ]
    }
   ],
   "source": [
    "# Fonction pour comparer les récompenses des modèles\n",
    "def tester_modele(modele, env, episodes=1, seed=42):\n",
    "    recompenses = []\n",
    "\n",
    "    for episode in range(episodes):\n",
    "        print(f\"Épisode : {episode+1} avec {modele}\")\n",
    "    \n",
    "        obs, info = env.reset(seed=seed + episode)\n",
    "        \n",
    "        fini = False\n",
    "        total_recompenses = 0\n",
    "\n",
    "        while not fini:\n",
    "            action, _ = modele.predict(obs)\n",
    "            obs, recompense, fini, tronque, info = env.step(action)\n",
    "            total_recompenses += recompense\n",
    "\n",
    "        print(f\"Récompense : {total_recompenses}\")\n",
    "        recompenses.append(total_recompenses)\n",
    "\n",
    "    return recompenses\n",
    "\n",
    "nb_episodes = 10\n",
    "graine = 42\n",
    "recompenses_1 = tester_modele(model_1, env, episodes=nb_episodes, seed=graine)\n",
    "recompenses_2 = tester_modele(model_2, env, episodes=nb_episodes, seed=graine)\n",
    "\n",
    "env.close()\n"
   ]
  },
  {
   "cell_type": "code",
   "execution_count": 29,
   "metadata": {},
   "outputs": [
    {
     "data": {
      "image/png": "[encoded data removed]",
      "text/plain": [
       "<Figure size 640x480 with 1 Axes>"
      ]
     },
     "metadata": {},
     "output_type": "display_data"
    }
   ],
   "source": [
    "# Afficher les résultats\n",
    "plt.plot(recompenses_1, label=\"Modèle 1 (10000 steps)\")\n",
    "plt.plot(recompenses_2, label=\"Modèle 2 (100000 steps)\")\n",
    "plt.xlabel(\"Épisode\")\n",
    "plt.ylabel(\"Récompense Cumulée\")\n",
    "plt.title(\"Comparaison des performances des modèles (même labynrinthe)\")\n",
    "plt.legend()\n",
    "plt.show()"
   ]
  }
 ],
 "metadata": {
  "kernelspec": {
   "display_name": "Python 3",
   "language": "python",
   "name": "python3"
  },
  "language_info": {
   "codemirror_mode": {
    "name": "ipython",
    "version": 3
   },
   "file_extension": ".py",
   "mimetype": "text/x-python",
   "name": "python",
   "nbconvert_exporter": "python",
   "pygments_lexer": "ipython3",
   "version": "3.12.1"
  }
 },
 "nbformat": 4,
 "nbformat_minor": 2
}
