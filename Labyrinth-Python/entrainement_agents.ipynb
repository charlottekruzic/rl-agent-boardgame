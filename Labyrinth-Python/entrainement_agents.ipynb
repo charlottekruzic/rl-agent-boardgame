{
 "cells": [
  {
   "cell_type": "markdown",
   "metadata": {},
   "source": [
    "# Notebook permettant d'entrainer nos agents RL"
   ]
  },
  {
   "cell_type": "code",
   "execution_count": 1,
   "metadata": {},
   "outputs": [
    {
     "name": "stdout",
     "output_type": "stream",
     "text": [
      "pygame 2.6.0 (SDL 2.28.4, Python 3.12.1)\n",
      "Hello from the pygame community. https://www.pygame.org/contribute.html\n"
     ]
    }
   ],
   "source": [
    "# Librairies\n",
    "#from stable_baselines3 import PPO\n",
    "from gym_env_2dim_modif import LabyrinthEnv\n",
    "from callbacks import SaveModelCallback,ExplorationExploitationCallback\n",
    "from sb3_contrib.common.maskable.callbacks import MaskableEvalCallback\n",
    "from stable_baselines3.common.monitor import Monitor\n",
    "from sb3_contrib import MaskablePPO\n",
    "from sb3_contrib.common.envs import InvalidActionEnvDiscrete\n",
    "from sb3_contrib.common.maskable.evaluation import evaluate_policy\n",
    "from sb3_contrib.common.maskable.utils import get_action_masks\n",
    "from sb3_contrib.common.wrappers import ActionMasker\n",
    "from stable_baselines3.common.vec_env import DummyVecEnv\n",
    "from stable_baselines3.common.callbacks import EvalCallback\n",
    "import numpy as np\n",
    "import os\n",
    "import gymnasium as gym"
   ]
  },
  {
   "cell_type": "code",
   "execution_count": 2,
   "metadata": {},
   "outputs": [],
   "source": [
    "def mask_fn(env):\n",
    "    action_mask = env.get_action_mask()\n",
    "    flat_mask = np.concatenate(action_mask)\n",
    "    return flat_mask"
   ]
  },
  {
   "cell_type": "code",
   "execution_count": 3,
   "metadata": {},
   "outputs": [],
   "source": [
    "env = LabyrinthEnv()                 \n",
    "env = ActionMasker(env, mask_fn)         \n",
    "env = DummyVecEnv([lambda: env])  "
   ]
  },
  {
   "cell_type": "code",
   "execution_count": 4,
   "metadata": {},
   "outputs": [
    {
     "name": "stdout",
     "output_type": "stream",
     "text": [
      "Espace des actions :  MultiDiscrete([ 4 12 49])\n",
      "Espace des observations :  Box(0.0, 1.0, (245,), float32)\n"
     ]
    }
   ],
   "source": [
    "print(\"Espace des actions : \", env.action_space)\n",
    "print(\"Espace des observations : \", env.observation_space)"
   ]
  },
  {
   "cell_type": "code",
   "execution_count": 5,
   "metadata": {},
   "outputs": [
    {
     "name": "stdout",
     "output_type": "stream",
     "text": [
      "Using cpu device\n",
      "Le joueur 0 a gagné la partie !\n",
      "-----------------------------\n",
      "| time/              |      |\n",
      "|    fps             | 556  |\n",
      "|    iterations      | 1    |\n",
      "|    time_elapsed    | 3    |\n",
      "|    total_timesteps | 2048 |\n",
      "-----------------------------\n",
      "Le joueur 0 a gagné la partie !\n",
      "-----------------------------------------\n",
      "| time/                   |             |\n",
      "|    fps                  | 306         |\n",
      "|    iterations           | 2           |\n",
      "|    time_elapsed         | 13          |\n",
      "|    total_timesteps      | 4096        |\n",
      "| train/                  |             |\n",
      "|    approx_kl            | 0.007098114 |\n",
      "|    clip_fraction        | 0.0412      |\n",
      "|    clip_range           | 0.2         |\n",
      "|    entropy_loss         | -2.69       |\n",
      "|    explained_variance   | 0.0017      |\n",
      "|    learning_rate        | 0.0003      |\n",
      "|    loss                 | 6.83e+03    |\n",
      "|    n_updates            | 10          |\n",
      "|    policy_gradient_loss | -0.0208     |\n",
      "|    value_loss           | 1.22e+04    |\n",
      "-----------------------------------------\n",
      "Le joueur 0 a gagné la partie !\n",
      "-----------------------------------------\n",
      "| time/                   |             |\n",
      "|    fps                  | 224         |\n",
      "|    iterations           | 3           |\n",
      "|    time_elapsed         | 27          |\n",
      "|    total_timesteps      | 6144        |\n",
      "| train/                  |             |\n",
      "|    approx_kl            | 0.004128387 |\n",
      "|    clip_fraction        | 0.0124      |\n",
      "|    clip_range           | 0.2         |\n",
      "|    entropy_loss         | -2.7        |\n",
      "|    explained_variance   | -1.03e-05   |\n",
      "|    learning_rate        | 0.0003      |\n",
      "|    loss                 | 7.5e+03     |\n",
      "|    n_updates            | 20          |\n",
      "|    policy_gradient_loss | -0.0118     |\n",
      "|    value_loss           | 1.78e+04    |\n",
      "-----------------------------------------\n",
      "Le joueur 1 a gagné la partie !\n",
      "-----------------------------------------\n",
      "| time/                   |             |\n",
      "|    fps                  | 193         |\n",
      "|    iterations           | 4           |\n",
      "|    time_elapsed         | 42          |\n",
      "|    total_timesteps      | 8192        |\n",
      "| train/                  |             |\n",
      "|    approx_kl            | 0.005264366 |\n",
      "|    clip_fraction        | 0.0263      |\n",
      "|    clip_range           | 0.2         |\n",
      "|    entropy_loss         | -2.71       |\n",
      "|    explained_variance   | 1.61e-06    |\n",
      "|    learning_rate        | 0.0003      |\n",
      "|    loss                 | 2.97e+04    |\n",
      "|    n_updates            | 30          |\n",
      "|    policy_gradient_loss | -0.0125     |\n",
      "|    value_loss           | 6.91e+04    |\n",
      "-----------------------------------------\n",
      "Le joueur 1 a gagné la partie !\n",
      "------------------------------------------\n",
      "| time/                   |              |\n",
      "|    fps                  | 200          |\n",
      "|    iterations           | 5            |\n",
      "|    time_elapsed         | 51           |\n",
      "|    total_timesteps      | 10240        |\n",
      "| train/                  |              |\n",
      "|    approx_kl            | 0.0019088023 |\n",
      "|    clip_fraction        | 0.000732     |\n",
      "|    clip_range           | 0.2          |\n",
      "|    entropy_loss         | -2.69        |\n",
      "|    explained_variance   | 0.000627     |\n",
      "|    learning_rate        | 0.0003       |\n",
      "|    loss                 | 5.31e+04     |\n",
      "|    n_updates            | 40           |\n",
      "|    policy_gradient_loss | -0.00635     |\n",
      "|    value_loss           | 9.2e+04      |\n",
      "------------------------------------------\n"
     ]
    },
    {
     "data": {
      "text/plain": [
       "<sb3_contrib.ppo_mask.ppo_mask.MaskablePPO at 0x21dce3ad040>"
      ]
     },
     "execution_count": 5,
     "metadata": {},
     "output_type": "execute_result"
    }
   ],
   "source": [
    "model = MaskablePPO(\"MlpPolicy\", env, verbose=1, device=\"cpu\")\n",
    "save_model_callback = SaveModelCallback(save_freq=2500, save_path=\"./modeles/agent_4\")\n",
    "model.learn(total_timesteps=10000,\n",
    "            callback=[save_model_callback])"
   ]
  }
 ],
 "metadata": {
  "kernelspec": {
   "display_name": "Python 3",
   "language": "python",
   "name": "python3"
  },
  "language_info": {
   "codemirror_mode": {
    "name": "ipython",
    "version": 3
   },
   "file_extension": ".py",
   "mimetype": "text/x-python",
   "name": "python",
   "nbconvert_exporter": "python",
   "pygments_lexer": "ipython3",
   "version": "3.12.1"
  }
 },
 "nbformat": 4,
 "nbformat_minor": 2
}
