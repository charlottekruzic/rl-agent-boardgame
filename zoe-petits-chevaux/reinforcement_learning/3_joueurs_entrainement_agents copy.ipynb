version https://git-lfs.github.com/spec/v1
oid sha256:a69ddbde9d8eea074eaba25fceca51a64ab2897e842711095f85e608ae3fc5d5
size 341346
