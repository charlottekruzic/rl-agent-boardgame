version https://git-lfs.github.com/spec/v1
oid sha256:5c67c9cec8bd5ff25718dc832eaac9d383a55f437532c194a447ad7abe0c6799
size 340285
